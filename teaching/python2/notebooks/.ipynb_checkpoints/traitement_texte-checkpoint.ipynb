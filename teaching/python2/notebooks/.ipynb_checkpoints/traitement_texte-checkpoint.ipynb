{
 "cells": [
  {
   "cell_type": "code",
   "execution_count": null,
   "metadata": {
    "collapsed": true
   },
   "outputs": [],
   "source": [
    "from scrapy import Spider\n",
    "from scrapy.Selector import Selector\n",
    "from bnf.items import BnfItem\n",
    "import datetime \n",
    "\n",
    "class GareSpider(Spider):\n",
    "    name = \"gare\"\n",
    "    allowed_domains = [\"catalogue.bnf.fr\"]\n",
    "    start_urls = [\n",
    "    \"http://catalogue.bnf.fr/resultats-sujet.do?sujet=Gares&filtre=1&pageRech=rsu\",\n",
    "    ]\n",
    "    \n",
    "    def parse (self, response):\n",
    "        titres = Selector(response).xpath('//div[@class=\"notice-libelle\"]')\n",
    "        \n",
    "        for titre in titres:\n",
    "            item = BnfItem()\n",
    "            item['titre'] = titre.xpath('a/text()')\n",
    "            item ['url'] = titre.xpath('a/@href')\n",
    "            item ['temps_du_scrap'] =  datetime.datetime()\n",
    "            \n",
    "            return item\n",
    "        \n",
    "        "
   ]
  }
 ],
 "metadata": {
  "kernelspec": {
   "display_name": "Python 2",
   "language": "python",
   "name": "python2"
  },
  "language_info": {
   "codemirror_mode": {
    "name": "ipython",
    "version": 2
   },
   "file_extension": ".py",
   "mimetype": "text/x-python",
   "name": "python",
   "nbconvert_exporter": "python",
   "pygments_lexer": "ipython2",
   "version": "2.7.11"
  }
 },
 "nbformat": 4,
 "nbformat_minor": 2
}
