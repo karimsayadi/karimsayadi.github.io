{
 "cells": [
  {
   "cell_type": "markdown",
   "metadata": {},
   "source": [
    "## Exercice 1"
   ]
  },
  {
   "cell_type": "markdown",
   "metadata": {},
   "source": [
    "Dans cet exercice, nous allons créer un fichier csv qui contiendra deux colonnes. La première est relative au nom du fichier et la deuxième à son identifiant. Nous allons dans une première étape parcourir l'ensemble des fichiers dans un dossier et dans une seconde étape récupérer l'identifiant à partir du nom des fichiers parcouru. \n",
    "\n",
    "* Le programme python contient une seule fonction qui prend en entrée le chemin du dossier contenant le fichier et donne en sortie un fichier csv avec deux colonnes. Nous allons utilser les modules os, csv, re et les fonctions open() et write().\n",
    "\n",
    "* Nous importons d'abord les modules dont nous avons besoin. "
   ]
  },
  {
   "cell_type": "code",
   "execution_count": 5,
   "metadata": {
    "collapsed": true
   },
   "outputs": [],
   "source": [
    "import sys, os\n",
    "import re\n",
    "from os import listdir\n",
    "from os.path import isfile, join"
   ]
  },
  {
   "cell_type": "markdown",
   "metadata": {},
   "source": [
    "* Nous créeons ensuite notre fonction que nous appellerons *fromFileToCSV*. Cette fonction prend deux arguements : le chemin vers le dossier et le nom du fichier csv. La signature de la fonction est comme suit, `fromFileToCSV(folderpath, csvfilename)`"
   ]
  },
  {
   "cell_type": "code",
   "execution_count": 6,
   "metadata": {
    "collapsed": false
   },
   "outputs": [],
   "source": [
    "def fromFileToCSV (folderpath,csvfilename) :\n",
    "    files = [f for f in listdir(folderpath) if isfile(join(folderpath, f))]\n",
    "    random.shuffle(files)\n",
    "\n",
    "    for filepath in files:\n",
    "        if filepath.endswith(\".png\"):\n",
    "            label = re.findall(\"^(\\d+)_\",filepath)\n",
    "            csvLine = filepath+\",\"+str(label[0])\n",
    "            print csvLine\n",
    "            with open(folderpath+csvfilename, \"a\") as myfile:\n",
    "                myfile.write(csvLine)\n",
    "                myfile.write(\"\\n\")"
   ]
  },
  {
   "cell_type": "markdown",
   "metadata": {},
   "source": [
    "* La variable `files` est une liste qui le nom de tous les fichiers sous le chemin stocker dans la variable `folderpath`. \n",
    "* Nous utilisons `random.shuffle(files)` pour mélanger aléatoirement la position de chaque nom de fichiers dans la liste `files`. \n",
    "* Nous parcourons la liste `files` avec un boucle `for` et pour chaque fichier avec l'extention `.png` nous récupérons dans la variable `label` le premier caractére numérique qui est présent dans le nom du fichier `filepath`. \n",
    "* Nous initialisons la variable `csvLine` avec le nom du fichier et le caractére numérique récupéré avec l'expression réculière `\"^(\\d+)_\"`.\n",
    "* Nous ouvrons un fichier csv fourni en argument à la fonction et écrivant la ligne cotenu dans `csvLine`."
   ]
  },
  {
   "cell_type": "code",
   "execution_count": null,
   "metadata": {
    "collapsed": true
   },
   "outputs": [],
   "source": [
    "def main (): \n",
    "    fromFileToCSV(\"./lines\",\"fichier_auteur.csv\")"
   ]
  },
  {
   "cell_type": "code",
   "execution_count": null,
   "metadata": {
    "collapsed": true
   },
   "outputs": [],
   "source": [
    "if __name__ == '__main__':\n",
    "    \"\"\"\n",
    "    Si je veux exécuter un fichier python sur la console en prenant compte des arguements donnés dans la console. \n",
    "    Par exemple : >> python nomfichier.py nomDossier, nomFichierCSV. \n",
    "    \n",
    "    if len(sys.argv) == 3:\n",
    "        fromFileToCSV(sys.argv[1],sys.argv[2])\n",
    "    \"\"\"\n",
    "    \n",
    "    main()"
   ]
  },
  {
   "cell_type": "markdown",
   "metadata": {},
   "source": [
    "## Exercice 2\n",
    "\n",
    "Dans cet exercice, nous allons construire un corpus ou une collection de documents à partir d'un fichier texte. Ce fichier contient plusieurs lignes qui correspondent à des tweets. D'abord, et après avoir ouvert le fichier, pour chaque ligne dans ce dernier nous allons créer un nouveau fichier. Cette étape nous donnera un dossier contenant un nombre de fichiers égal au nombre de ligne dans le fichier d'origine. Ensuite, et suivant une certaine proportion que nous allons fournir comme paramètre d'entrée nous allons diviser l'ensemble de fichiers en trois dossiers. \n",
    "\n",
    "* Le programme contenient deux fonctions : la première prendra en entrée le fichier d'origine et donnera en sortie un dossier avec un nombre de fichiers égales au nombre de lignes dans le fichier d'origine. La deuxième fonction prendra comme entrée le chemin relatif ou absolu du dossier fraîchement créé ainsi que trois proportions. C'est-à-dire que la deuxième fonction donnera en sortie trois dossiers avec par exemple 20% des fichiers seront copié dans le premier dossier, 30% des fichiers seront copié dans le deuxième dossier et 50% des fichiers seront copiés dans le troisième dossier."
   ]
  },
  {
   "cell_type": "code",
   "execution_count": null,
   "metadata": {
    "collapsed": true
   },
   "outputs": [],
   "source": [
    "import sys, os \n",
    "import shutil\n",
    "import re\n",
    "import random\n",
    "from os import listdir\n",
    "from os.path import isfile, join"
   ]
  },
  {
   "cell_type": "code",
   "execution_count": null,
   "metadata": {
    "collapsed": true
   },
   "outputs": [],
   "source": [
    "def file_to_files (original_file_path):\n",
    "\n",
    "    if not os.path.exists(\"lines_folder\"):\n",
    "        os.makedirs(\"lines_folder\")\n",
    "    file_counter = 0\n",
    "    my_file = open(original_file_path)\n",
    "    lines_liste = my_file.readlines()\n",
    "    for line in lines_liste:\n",
    "        file_counter += 1\n",
    "        my_new_file = open(\"lines_folder/\"+str(file_counter)+'_processed_tweet.txt', 'a')\n",
    "        my_new_file.write(line)\n",
    "        my_new_file.close()\n",
    "    my_file.close()\n",
    "    new_folder = \"lines_folder/\"\n",
    "    return new_folder"
   ]
  },
  {
   "cell_type": "markdown",
   "metadata": {},
   "source": [
    "* Nous vérifions d'abord avec la fonction `os.path.exists` si le dossier dans lequel nous allons mettre chaque fichier contenant chaque ligne di fichier donné en argument.\n",
    "* Nous initialisons un compteur de lignes avec une variable numérique que nous appelons `file_counter`. Nous nous servirons de la valeur de cette variable pour donner un nom unique aux fichiers fraîchement créer. \n",
    "* Nous ouvrons ensuite le fichier `original_file_path` et parcourons ligne par ligne. À chaque ligne nous créerons un nouveau fichier et écrivons la ligne que nous venons de lire dans le fichier. \n",
    "* La fonction retourne le nom du dossier qui contient tous les fichiers que nous venons de créer."
   ]
  },
  {
   "cell_type": "code",
   "execution_count": 7,
   "metadata": {
    "collapsed": true
   },
   "outputs": [],
   "source": [
    "def from_folder_to_folders (original_folder_path, percentageFolder1, percentageFolder2, percentageFolder3):\n",
    "    \n",
    "    list_fichiers_dans_dossier = listdir(orginal_folder_path)\n",
    "    files = [f for f in list_fichiers_dans_dossier if isfile(join(original_folder_path,f))]\n",
    "    \n",
    "    \"\"\"\n",
    "    Ces instruction sont équivalentes à la création de la liste files qui est au dessus \n",
    "    for f in list_fichier_dans_dossier:\n",
    "        if isfile(join(original_folder_path,f):\n",
    "                  files.add(f)\n",
    "    \"\"\"\n",
    "    \n",
    "    \"\"\"\n",
    "    Documentation de random https://docs.python.org/2/library/random.html\n",
    "    \"\"\"\n",
    "    \n",
    "    \"\"\"\n",
    "    Nous mélangeons l'ordre des fichiers dans la liste pour avoir plus de diversité dans chaque dossier.\n",
    "    \"\"\"\n",
    "    random.shuffle(files)\n",
    "\n",
    "    nbFilesFolder1 = int((float(percentageFolder1)/100)*len(files))\n",
    "    nbFilesFolder2 = int((float(percentageFolder2)/100)*len(files))\n",
    "    nbFilesFolder3 = int((float(percentageFolder3)/100)*len(files))\n",
    "\n",
    "\n",
    "    if not os.path.exists(original_folder_path+\"Folder1\"):\n",
    "        os.makedirs(original_folder_path+\"Folder1\")\n",
    "    if not os.path.exists(original_folder_path+\"Folder2\"):\n",
    "        os.makedirs(original_folder_path+\"Folder2\")\n",
    "    if not os.path.exists(original_folder_path+\"Folder3\"):\n",
    "        os.makedirs(original_folder_path+\"Folder3\")\n",
    "\n",
    "        \"\"\"\n",
    "        enumerate retourne l'index + le contenu de la liste files.\n",
    "        \"\"\"\n",
    "    for j,filepath in enumerate(files):\n",
    "        # e.g. sourceFolder = lines_folder/11314_processed_tweet.txt\n",
    "        # \"lines_folder/Folder2/\"\n",
    "        sourceFolder = os.path.join(original_folder_path,filepath)\n",
    "        \n",
    "        if (j > nbFilesFolder1 and j < nbFilesFolder1+nbFilesFolder2):\n",
    "            print \"copying the files to folder 2\"\n",
    "            if filepath.endswith(\".txt\"):\n",
    "                shutil.copy2(sourceFolder,original_folder_path+\"Folder2/\")\n",
    "        elif (j > nbFilesFolder1+nbFilesFolder2 and j < len(files)):\n",
    "            print \"copying the files to folder 3\"\n",
    "            if filepath.endswith(\".txt\"):\n",
    "                shutil.copy2(sourceFolder,original_folder_path+\"Folder3/\")\n",
    "        else:\n",
    "            print \"copytin the files to folder 1\"\n",
    "            if filepath.endswith(\".txt\"):\n",
    "                shutil.copy2(sourceFolder, original_folder_path+\"Folder1/\")"
   ]
  },
  {
   "cell_type": "markdown",
   "metadata": {},
   "source": [
    "Le but de la fonction `from_folder_to_folders` est de parcourir le dossier retourner par la fonction `file_to_files` et de copier l'ensemble des fichiers en trois dossiers selon trois proportions données en arguments et représentés par des pourcentages. \n",
    "\n",
    "* D'abord nous créons une liste qui contient tous les fichiers dans le dossier retourné par la fonction `file_to_files`. \n",
    "* Ensuite et pour chaque fichier dans cette liste nous allons récupéré le chemin relatif du fichier et vérifier s'il s'agit bien d'un fichier texte. \n",
    "* Nous calculons le nombre de fichiers qui doit être mis dans chacun des trois dossiers avec l'équation suivante : \n",
    "\n",
    "\\begin{equation*}\n",
    "proportions\\_fichiers = \\frac{pourcentage}{100} \\times nombre\\_total\\_des\\_fichiers\n",
    "\\end{equation*}\n",
    "\n",
    "* Une fois que nous avons la liste de fichiers, nous parcourons la liste selon les proportions fournies en arguments et utilisons la fonction `copy2`qui prend en entrée le chemin relatif de la source et le chemin relatif de la destination vers laquelle le fichier va être copié. "
   ]
  },
  {
   "cell_type": "code",
   "execution_count": null,
   "metadata": {
    "collapsed": true
   },
   "outputs": [],
   "source": [
    "def main():\n",
    "    \n",
    "    file_to_files(\"data/preprocessedP.txt\")\n",
    "    #from_folder_to_folders(file_to_files(\"data/preprocessedP.txt\"), 50, 30, 20)\n",
    "\n",
    "if __name__ == '__main__':\n",
    "    main()"
   ]
  }
 ],
 "metadata": {
  "kernelspec": {
   "display_name": "Python 2",
   "language": "python",
   "name": "python2"
  },
  "language_info": {
   "codemirror_mode": {
    "name": "ipython",
    "version": 2
   },
   "file_extension": ".py",
   "mimetype": "text/x-python",
   "name": "python",
   "nbconvert_exporter": "python",
   "pygments_lexer": "ipython2",
   "version": "2.7.11"
  }
 },
 "nbformat": 4,
 "nbformat_minor": 2
}
