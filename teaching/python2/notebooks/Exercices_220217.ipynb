{
 "cells": [
  {
   "cell_type": "markdown",
   "metadata": {},
   "source": [
    "## Exercice 1"
   ]
  },
  {
   "cell_type": "markdown",
   "metadata": {},
   "source": [
    "Dans cet exercice, nous allons créer un fichier csv qui contiendra deux colonnes. La première est relative au nom du fichier et la deuxième à son identifiant. Nous allons dans une première étape parcourir l'ensemble des fichiers dans un dossier et dans une seconde étape récupérer l'identifiant à partir du nom des fichiers parcouru. \n",
    "\n",
    "* Le programme python contient une seule fonction qui prend en entrée le chemin du dossier contenant le fichier et donne en sortie un fichier csv avec deux colonnes. Nous allons utilser les modules os, csv, re et les fonctions open() et write().\n",
    "\n",
    "* Nous importons d'abord les modules dont nous avons besoin. "
   ]
  },
  {
   "cell_type": "code",
   "execution_count": 1,
   "metadata": {
    "collapsed": true
   },
   "outputs": [],
   "source": [
    "import sys, os\n",
    "import re\n",
    "from os import listdir\n",
    "from os.path import isfile, join"
   ]
  },
  {
   "cell_type": "markdown",
   "metadata": {},
   "source": [
    "* Nous créeons ensuite notre fonction que nous appellerons *fromFileToCSV*. Cette fonction prend deux arguements : le chemin vers le dossier et le nom du fichier csv. La signature de la fonction est comme suit, `fromFileToCSV(folderpath, csvfilename)`"
   ]
  },
  {
   "cell_type": "code",
   "execution_count": 4,
   "metadata": {
    "collapsed": false
   },
   "outputs": [],
   "source": [
    "def fromFileToCSV (folderpath,csvfilename) :\n",
    "    files = [f for f in listdir(folderpath) if isfile(join(folderpath, f))]\n",
    "    random.shuffle(files)\n",
    "\n",
    "    for filepath in files:\n",
    "        if filepath.endswith(\".png\"):\n",
    "            label = re.findall(\"^(\\d+)_\",filepath)\n",
    "            csvLine = filepath+\",\"+str(label[0])\n",
    "            print csvLine\n",
    "            with open(folderpath+csvfilename, \"a\") as myfile:\n",
    "                myfile.write(csvLine)\n",
    "                myfile.write(\"\\n\")"
   ]
  },
  {
   "cell_type": "markdown",
   "metadata": {},
   "source": [
    "* La variable `files` est une liste qui le nom de tous les fichiers sous le chemin stocker dans la variable `folderpath`. \n",
    "* Nous utilisons `random.shuffle(files)` pour mélanger aléatoirement la position de chaque nom de fichiers dans la liste `files`. \n",
    "* Nous parcourons la liste `files` avec un boucle `for` et pour chaque fichier avec l'extention `.png` nous récupérons dans la variable `label` le premier caractére numérique qui est présent dans le nom du fichier `filepath`. \n",
    "* Nous initialisons la variable `csvLine` avec le nom du fichier et le caractére numérique récupéré avec l'expression réculière `\"^(\\d+)_\"`.\n",
    "* Nous ouvrons un fichier csv fourni en argument à la fonction et écrivant la ligne cotenu dans `csvLine`."
   ]
  },
  {
   "cell_type": "code",
   "execution_count": null,
   "metadata": {
    "collapsed": true
   },
   "outputs": [],
   "source": [
    "if __name__ == '__main__':\n",
    "    if len(sys.argv) == 3:\n",
    "        fromFileToCSV(sys.argv[1],sys.argv[2])"
   ]
  },
  {
   "cell_type": "markdown",
   "metadata": {},
   "source": [
    "## Exercice 2\n",
    "\n",
    "Dans cet exercice, nous allons construire un corpus ou une collection de documents à partir d'un fichier texte. Ce fichier contient plusieurs lignes qui correspondent à des tweets. D'abord, et après avoir ouvert le fichier, pour chaque ligne dans ce dernier nous allons créer un nouveau fichier. Cette étape nous donnera un dossier contenant un nombre de fichiers égal au nombre de ligne dans le fichier d'origine. Ensuite, et suivant une certaine proportion que nous allons fournir comme paramètre d'entrée nous allons diviser l'ensemble de fichiers en trois dossiers. \n",
    "\n",
    "* Le programme contenient deux fonctions : la première prendra en entrée le fichier d'origine et donnera en sortie un dossier avec un nombre de fichiers égales au nombre de lignes dans le fichier d'origine. La deuxième fonction prendra comme entrée le chemin relatif ou absolu du dossier fraîchement créé ainsi que trois proportions. C'est-à-dire que la deuxième fonction donnera en sortie trois dossiers avec par exemple 20% des fichiers seront copié dans le premier dossier, 30% des fichiers seront copié dans le deuxième dossier et 50% des fichiers seront copiés dans le troisième dossier."
   ]
  },
  {
   "cell_type": "code",
   "execution_count": null,
   "metadata": {
    "collapsed": true
   },
   "outputs": [],
   "source": [
    "import sys, os \n",
    "import shutil\n",
    "import re\n",
    "import random\n",
    "from os import listdir\n",
    "from os.path import isfile, join"
   ]
  },
  {
   "cell_type": "code",
   "execution_count": null,
   "metadata": {
    "collapsed": true
   },
   "outputs": [],
   "source": [
    "def file_to_files (original_file_path):\n",
    "\n",
    "    if not os.path.exists(\"lines_folder\"):\n",
    "        os.makedirs(\"lines_folder\")\n",
    "    file_counter = 0\n",
    "    my_file = open(original_file_path)\n",
    "    for line in my_file.readlines():\n",
    "        file_counter += 1\n",
    "        my_new_file = open(\"lines_folder/\"+str(file_counter)+'_processed_tweet.txt', 'a')\n",
    "        my_new_file.write(line)\n",
    "        my_new_file.close()\n",
    "    my_file.close()\n",
    "\n",
    "    return \"lines_folder/\""
   ]
  },
  {
   "cell_type": "markdown",
   "metadata": {},
   "source": [
    "\\begin{equation*}\n",
    "proportions\\_fichiers = \\frac{pourcentage}{100} \\times nombre\\_total\\_des\\_fichiers\n",
    "\\end{equation*}"
   ]
  },
  {
   "cell_type": "code",
   "execution_count": null,
   "metadata": {
    "collapsed": true
   },
   "outputs": [],
   "source": [
    "def from_folder_to_folders (original_folder_path, percentageFolder1, percentageFolder2, percentageFolder3):\n",
    "    \"\"\"\n",
    "    Shuffle the files in original_folder_path to have different files in each of the three folders\n",
    "    \"\"\"\n",
    "\n",
    "    files = [f for f in listdir(original_folder_path) if isfile(join(original_folder_path,f))]\n",
    "    random.shuffle(files)\n",
    "\n",
    "    nbFilesFolder1 = int((float(percentageFolder1)/100)*len(files))\n",
    "    nbFilesFolder2 = int((float(percentageFolder2)/100)*len(files))\n",
    "    nbFilesFolder3 = int((float(percentageFolder3)/100)*len(files))\n",
    "\n",
    "\n",
    "    if not os.path.exists(original_folder_path+\"Folder1\"):\n",
    "        os.makedirs(original_folder_path+\"Folder1\")\n",
    "    if not os.path.exists(original_folder_path+\"Folder2\"):\n",
    "        os.makedirs(original_folder_path+\"Folder2\")\n",
    "    if not os.path.exists(original_folder_path+\"Folder3\"):\n",
    "        os.makedirs(original_folder_path+\"Folder3\")\n",
    "\n",
    "    for j,filepath in enumerate(files):\n",
    "        sourceFolder = os.path.join(original_folder_path,filepath)\n",
    "        if (j > nbFilesFolder1 and j < nbFilesFolder1+nbFilesFolder2):\n",
    "            print \"copying the files to folder 2\"\n",
    "            if filepath.endswith(\".txt\"):\n",
    "                shutil.copy2(sourceFolder,original_folder_path+\"Folder2/\")\n",
    "        elif (j > nbFilesFolder1+nbFilesFolder2 and j < len(files)):\n",
    "            print \"copying the files to folder 3\"\n",
    "            if filepath.endswith(\".txt\"):\n",
    "                shutil.copy2(sourceFolder,original_folder_path+\"Folder3/\")\n",
    "        else:\n",
    "            print \"copytin the files to folder 1\"\n",
    "            if filepath.endswith(\".txt\"):\n",
    "                shutil.copy2(sourceFolder, original_folder_path+\"Folder1/\")"
   ]
  },
  {
   "cell_type": "code",
   "execution_count": null,
   "metadata": {
    "collapsed": true
   },
   "outputs": [],
   "source": [
    "def main():\n",
    "    from_folder_to_folders(file_to_files(\"data/preprocessedP.txt\"), 50, 30, 20)\n",
    "\n",
    "if __name__ == '__main__':\n",
    "    main()"
   ]
  }
 ],
 "metadata": {
  "kernelspec": {
   "display_name": "Python 2",
   "language": "python",
   "name": "python2"
  },
  "language_info": {
   "codemirror_mode": {
    "name": "ipython",
    "version": 2
   },
   "file_extension": ".py",
   "mimetype": "text/x-python",
   "name": "python",
   "nbconvert_exporter": "python",
   "pygments_lexer": "ipython2",
   "version": "2.7.11"
  }
 },
 "nbformat": 4,
 "nbformat_minor": 2
}
