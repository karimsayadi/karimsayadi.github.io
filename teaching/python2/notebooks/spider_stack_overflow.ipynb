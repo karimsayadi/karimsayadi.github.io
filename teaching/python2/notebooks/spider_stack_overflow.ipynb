{
 "cells": [
  {
   "cell_type": "markdown",
   "metadata": {},
   "source": [
    "# Installation "
   ]
  },
  {
   "cell_type": "code",
   "execution_count": null,
   "metadata": {
    "collapsed": true
   },
   "outputs": [],
   "source": [
    "pip install scrapy"
   ]
  },
  {
   "cell_type": "markdown",
   "metadata": {},
   "source": [
    "Installation base de données MongoDB"
   ]
  },
  {
   "cell_type": "code",
   "execution_count": null,
   "metadata": {
    "collapsed": true
   },
   "outputs": [],
   "source": [
    "pip install pymongo"
   ]
  },
  {
   "cell_type": "markdown",
   "metadata": {},
   "source": [
    "# Lancer un aspirateur de données"
   ]
  },
  {
   "cell_type": "code",
   "execution_count": null,
   "metadata": {
    "collapsed": true
   },
   "outputs": [],
   "source": [
    "scrapy startproject stackoverflow_data"
   ]
  },
  {
   "cell_type": "markdown",
   "metadata": {},
   "source": [
    "## Spécifier les données que nous allons récupérer"
   ]
  },
  {
   "cell_type": "code",
   "execution_count": null,
   "metadata": {
    "collapsed": true
   },
   "outputs": [],
   "source": [
    "from scrapy import Item\n",
    "\n",
    "class StackOverFlowItems (Item):\n",
    "    \n",
    "    #Définir ce que nous allons récupérer depuis le site stackoverflow.com\n",
    "    #name = scrapy.Field()\n",
    "    \n",
    "    titre = scrapy.Field()\n",
    "    url = scrapy.Field()\n",
    "    \n",
    "    \n",
    "    "
   ]
  },
  {
   "cell_type": "markdown",
   "metadata": {},
   "source": [
    "## Spécifier l'aspirateur qui va récupérer les données"
   ]
  },
  {
   "cell_type": "code",
   "execution_count": null,
   "metadata": {
    "collapsed": true
   },
   "outputs": [],
   "source": [
    "\"\"\"\n",
    "Dans le dossier spiders\n",
    "\"\"\"\n",
    "from scrapy import Spider\n",
    "from scrapy.selector import Selector\n",
    "from stackoverflow_data.items import StackOverFlowItems\n",
    "\n",
    "'''\n",
    "Je définis la classe StackOverFlowSpier qui va récupèrer des données et les stockers dans les Items \n",
    "que j'ai définis précédement.\n",
    "'''\n",
    "class StackOverFlowSpider (Spider):\n",
    "    # name définit le nom de l'aspirateur/crawler/spider \n",
    "    name = \"stack\"\n",
    "    # allowed_domains contient les noms de domaines où le spider commence la récupération des données\n",
    "    allowed_domains = [\"stackoverflow.com\"]\n",
    "    # start_urls c'est l'adresse où le spider récupère les données.\n",
    "    start_urls = [\"http://stackoverflow.com/questions?sort=newest\"]\n",
    "    \n",
    "    def parse (self, response):\n",
    "        '''\n",
    "        response c'est la réponse http à la requête http que nous avons lancé \n",
    "        sur le start_urls pour récupérer le code HTML de la page https://stackoverflow.com/questions.\n",
    "        \n",
    "        questions est une liste qui va récupérer les éléments h3 depuis la commande xpath.\n",
    "        '''\n",
    "        questions = Selector(response).xpath('//div[@class=\"summary\"]/h3')\n",
    "        \n",
    "        for question in questions:\n",
    "            item = StackOverFlowItems()\n",
    "            \n",
    "            item['titre'] = question.xpath('//a[@class=\"question-hyperlink\"]/text()').extract()[0]\n",
    "            item ['url'] = question.xpath('//a[@class=\"question-hyperlink\"]/@href').extract()[0]\n",
    "            \n",
    "            # Yield est un return safe \n",
    "            \n",
    "            yield item\n",
    "            \n",
    "        \n",
    "        \n",
    "    "
   ]
  },
  {
   "cell_type": "markdown",
   "metadata": {},
   "source": [
    "### Lancer le Spider que vous venez de créer"
   ]
  },
  {
   "cell_type": "code",
   "execution_count": null,
   "metadata": {
    "collapsed": true
   },
   "outputs": [],
   "source": [
    "scrapy crawl stack"
   ]
  }
 ],
 "metadata": {
  "kernelspec": {
   "display_name": "Python 2",
   "language": "python",
   "name": "python2"
  },
  "language_info": {
   "codemirror_mode": {
    "name": "ipython",
    "version": 2
   },
   "file_extension": ".py",
   "mimetype": "text/x-python",
   "name": "python",
   "nbconvert_exporter": "python",
   "pygments_lexer": "ipython2",
   "version": "2.7.11"
  }
 },
 "nbformat": 4,
 "nbformat_minor": 2
}
